{
 "cells": [
  {
   "cell_type": "code",
   "execution_count": 1,
   "metadata": {},
   "outputs": [],
   "source": [
    "import pandas as pd\n",
    "import numpy as np\n",
    "import matplotlib.pyplot as plt\n",
    "import seaborn as sns\n",
    "from sklearn.model_selection import train_test_split, cross_val_score, GridSearchCV\n",
    "from sklearn.feature_extraction.text import CountVectorizer, TfidfVectorizer\n",
    "from sklearn.naive_bayes import MultinomialNB\n",
    "from sklearn.linear_model import LogisticRegression\n",
    "from sklearn.ensemble import RandomForestClassifier\n",
    "from sklearn.svm import LinearSVC\n",
    "from sklearn.pipeline import Pipeline\n",
    "from sklearn.metrics import classification_report, confusion_matrix, accuracy_score, precision_score, recall_score, f1_score\n",
    "import nltk\n",
    "from nltk.corpus import stopwords\n",
    "from nltk.stem import WordNetLemmatizer\n",
    "import re\n",
    "import warnings\n",
    "warnings.filterwarnings('ignore')"
   ]
  },
  {
   "cell_type": "code",
   "execution_count": 2,
   "metadata": {},
   "outputs": [
    {
     "name": "stderr",
     "output_type": "stream",
     "text": [
      "[nltk_data] Downloading package stopwords to /Users/casey/nltk_data...\n",
      "[nltk_data]   Package stopwords is already up-to-date!\n",
      "[nltk_data] Downloading package wordnet to /Users/casey/nltk_data...\n",
      "[nltk_data]   Package wordnet is already up-to-date!\n",
      "[nltk_data] Downloading package punkt to /Users/casey/nltk_data...\n",
      "[nltk_data]   Package punkt is already up-to-date!\n"
     ]
    },
    {
     "data": {
      "text/plain": [
       "True"
      ]
     },
     "execution_count": 2,
     "metadata": {},
     "output_type": "execute_result"
    }
   ],
   "source": [
    "nltk.download('stopwords')\n",
    "nltk.download('wordnet')\n",
    "nltk.download('punkt')"
   ]
  },
  {
   "cell_type": "code",
   "execution_count": 3,
   "metadata": {},
   "outputs": [],
   "source": [
    "# Loading the data\n",
    "url = \"https://storage.googleapis.com/adsp-nlp-open/data/elsevier-oa-cc-by/abstracts.json\"\n",
    "data = pd.read_json(url, orient=\"records\")"
   ]
  },
  {
   "cell_type": "code",
   "execution_count": 4,
   "metadata": {},
   "outputs": [
    {
     "name": "stdout",
     "output_type": "stream",
     "text": [
      "\n",
      "Data overview:\n",
      "Number of articles: 38686\n",
      "<class 'pandas.core.frame.DataFrame'>\n",
      "RangeIndex: 38686 entries, 0 to 38685\n",
      "Data columns (total 4 columns):\n",
      " #   Column    Non-Null Count  Dtype \n",
      "---  ------    --------------  ----- \n",
      " 0   doc_id    38686 non-null  object\n",
      " 1   title     38686 non-null  object\n",
      " 2   abstract  38686 non-null  object\n",
      " 3   subject   38686 non-null  object\n",
      "dtypes: object(4)\n",
      "memory usage: 1.2+ MB\n",
      "None\n",
      "\n",
      "Sample data:\n",
      "              doc_id                                              title  \\\n",
      "0  S0960076016300644  Sterols and oxysterols in plasma from Smith-Le...   \n",
      "1  S1471492219301369  The Uncertainty Surrounding the Burden of Post...   \n",
      "2  S2405580815000801  Low-mass molecular dynamics simulation for con...   \n",
      "3  S0142961216305853  Modulation of the molecular arrangement in art...   \n",
      "4  S0003682X1500242X  Validation of the blocked force method for var...   \n",
      "\n",
      "                                            abstract    subject  \n",
      "0  Smith-Lemli-Opitz syndrome (SLOS) is a severe ...   phys_sci  \n",
      "1  Post-acute consequences currently form a signi...  healh_sci  \n",
      "2  It has been reported recently that classical, ...   phys_sci  \n",
      "3  The transfer of material from phospholipid-coa...  engi_tech  \n",
      "4  Vibro-acoustic source characterization is an e...   phys_sci  \n"
     ]
    }
   ],
   "source": [
    "# Overview\n",
    "print(\"\\nData overview:\")\n",
    "print(f\"Number of articles: {len(data)}\")\n",
    "print(data.info())\n",
    "print(\"\\nSample data:\")\n",
    "print(data.head())"
   ]
  },
  {
   "cell_type": "code",
   "execution_count": 5,
   "metadata": {},
   "outputs": [
    {
     "name": "stdout",
     "output_type": "stream",
     "text": [
      "\n",
      "Missing values:\n",
      "doc_id      0\n",
      "title       0\n",
      "abstract    0\n",
      "subject     0\n",
      "dtype: int64\n"
     ]
    }
   ],
   "source": [
    "# Checking for any missing values\n",
    "print(\"\\nMissing values:\")\n",
    "print(data.isnull().sum())"
   ]
  },
  {
   "cell_type": "code",
   "execution_count": 6,
   "metadata": {},
   "outputs": [
    {
     "name": "stdout",
     "output_type": "stream",
     "text": [
      "\n",
      "Subject distribution:\n",
      "subject\n",
      "phys_sci     13048\n",
      "engi_tech     9211\n",
      "healh_sci     7633\n",
      "life_sci      5651\n",
      "soc_sci       3143\n",
      "Name: count, dtype: int64\n"
     ]
    }
   ],
   "source": [
    "print(\"\\nSubject distribution:\")\n",
    "subject_counts = data['subject'].value_counts()\n",
    "print(subject_counts)"
   ]
  },
  {
   "cell_type": "code",
   "execution_count": 8,
   "metadata": {},
   "outputs": [
    {
     "data": {
      "image/png": "[encoded data removed]",
      "text/plain": [
       "<Figure size 1200x600 with 1 Axes>"
      ]
     },
     "metadata": {},
     "output_type": "display_data"
    }
   ],
   "source": [
    "# Plotting the subject distribution with specific colors per subject\n",
    "plt.figure(figsize=(12, 6))\n",
    "colors = {'phys_sci': 'blue', 'engi_tech': 'green', 'healh_sci': 'red', 'life_sci': 'purple', 'soc_sci': 'orange'}\n",
    "sns.barplot(x=subject_counts.values, y=subject_counts.index, palette=[colors[subj] for subj in subject_counts.index])\n",
    "plt.title('Distribution of Research Article Subjects')\n",
    "plt.xlabel('Count')\n",
    "plt.ylabel('Subject')\n",
    "plt.tight_layout()\n",
    "plt.show()"
   ]
  },
  {
   "cell_type": "code",
   "execution_count": 13,
   "metadata": {},
   "outputs": [],
   "source": [
    "def preprocess_text(text):\n",
    "    if not isinstance(text, str):\n",
    "        return \"\"\n",
    "    \n",
    "    # Converting to lowercase\n",
    "    text = text.lower()\n",
    "    \n",
    "    # Removing the special characters and numbers\n",
    "    text = re.sub(r'[^a-zA-Z\\s]', '', text)\n",
    "    \n",
    "    # Removing the whitespaces\n",
    "    text = re.sub(r'\\s+', ' ', text).strip()\n",
    "    \n",
    "    return text\n"
   ]
  },
  {
   "cell_type": "code",
   "execution_count": null,
   "metadata": {},
   "outputs": [],
   "source": [
    "data['processed_title'] = data['title'].apply(preprocess_text)\n",
    "data['processed_abstract'] = data['abstract'].apply(preprocess_text)\n",
    "\n",
    "# Combining the title and abstract\n",
    "data['combined_text'] = data['processed_title'] + ' ' + data['processed_abstract']"
   ]
  },
  {
   "cell_type": "code",
   "execution_count": 15,
   "metadata": {},
   "outputs": [
    {
     "name": "stdout",
     "output_type": "stream",
     "text": [
      "\n",
      "Train set size: 30948\n",
      "Test set size: 7738\n"
     ]
    }
   ],
   "source": [
    "# Splitting the data *80% and 20%)\n",
    "X = data['combined_text']\n",
    "y = data['subject']\n",
    "X_train, X_test, y_train, y_test = train_test_split(X, y, test_size=0.2, random_state=42, stratify=y)\n",
    "\n",
    "print(f\"\\nTrain set size: {len(X_train)}\")\n",
    "print(f\"Test set size: {len(X_test)}\")"
   ]
  },
  {
   "cell_type": "code",
   "execution_count": 16,
   "metadata": {},
   "outputs": [
    {
     "name": "stdout",
     "output_type": "stream",
     "text": [
      "\n",
      "Training Multinomial Naive Bayes with TF-IDF...\n",
      "\n",
      "Naive Bayes Results:\n",
      "Accuracy: 0.6732\n",
      "Precision (macro): 0.6567\n",
      "Recall (macro): 0.6656\n",
      "F1 Score (macro): 0.6548\n",
      "\n",
      "Classification Report:\n",
      "              precision    recall  f1-score   support\n",
      "\n",
      "   engi_tech       0.70      0.80      0.75      1842\n",
      "   healh_sci       0.73      0.76      0.74      1527\n",
      "    life_sci       0.65      0.45      0.53      1130\n",
      "    phys_sci       0.67      0.63      0.65      2610\n",
      "     soc_sci       0.54      0.70      0.61       629\n",
      "\n",
      "    accuracy                           0.67      7738\n",
      "   macro avg       0.66      0.67      0.65      7738\n",
      "weighted avg       0.67      0.67      0.67      7738\n",
      "\n"
     ]
    }
   ],
   "source": [
    "# Multinomial Naive Bayes with TF-IDF\n",
    "print(\"\\nTraining Multinomial Naive Bayes with TF-IDF...\")\n",
    "nb_pipeline = Pipeline([\n",
    "    ('tfidf', TfidfVectorizer(max_features=5000, stop_words='english')),\n",
    "    ('clf', MultinomialNB())\n",
    "])\n",
    "\n",
    "nb_pipeline.fit(X_train, y_train)\n",
    "y_pred_nb = nb_pipeline.predict(X_test)\n",
    "\n",
    "print(\"\\nNaive Bayes Results:\")\n",
    "print(f\"Accuracy: {accuracy_score(y_test, y_pred_nb):.4f}\")\n",
    "print(f\"Precision (macro): {precision_score(y_test, y_pred_nb, average='macro'):.4f}\")\n",
    "print(f\"Recall (macro): {recall_score(y_test, y_pred_nb, average='macro'):.4f}\")\n",
    "print(f\"F1 Score (macro): {f1_score(y_test, y_pred_nb, average='macro'):.4f}\")\n",
    "print(\"\\nClassification Report:\")\n",
    "print(classification_report(y_test, y_pred_nb))"
   ]
  }
 ],
 "metadata": {
  "kernelspec": {
   "display_name": "base",
   "language": "python",
   "name": "python3"
  },
  "language_info": {
   "codemirror_mode": {
    "name": "ipython",
    "version": 3
   },
   "file_extension": ".py",
   "mimetype": "text/x-python",
   "name": "python",
   "nbconvert_exporter": "python",
   "pygments_lexer": "ipython3",
   "version": "3.12.2"
  }
 },
 "nbformat": 4,
 "nbformat_minor": 2
}
